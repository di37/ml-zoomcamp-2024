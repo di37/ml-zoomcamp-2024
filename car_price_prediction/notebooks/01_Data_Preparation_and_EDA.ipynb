{
 "cells": [
  {
   "cell_type": "code",
   "execution_count": 12,
   "metadata": {},
   "outputs": [],
   "source": [
    "import polars as pl\n",
    "import numpy as np"
   ]
  },
  {
   "cell_type": "code",
   "execution_count": 13,
   "metadata": {},
   "outputs": [
    {
     "name": "stdout",
     "output_type": "stream",
     "text": [
      "/workspaces/ml-zoomcamp-2024/car_price_prediction/notebooks\n"
     ]
    }
   ],
   "source": [
    "!pwd"
   ]
  },
  {
   "cell_type": "code",
   "execution_count": 14,
   "metadata": {},
   "outputs": [],
   "source": [
    "df = pl.read_csv(\"../data/raw/data.csv\")"
   ]
  },
  {
   "cell_type": "code",
   "execution_count": 15,
   "metadata": {},
   "outputs": [
    {
     "data": {
      "text/html": [
       "<div><style>\n",
       ".dataframe > thead > tr,\n",
       ".dataframe > tbody > tr {\n",
       "  text-align: right;\n",
       "  white-space: pre-wrap;\n",
       "}\n",
       "</style>\n",
       "<small>shape: (5, 16)</small><table border=\"1\" class=\"dataframe\"><thead><tr><th>Make</th><th>Model</th><th>Year</th><th>Engine Fuel Type</th><th>Engine HP</th><th>Engine Cylinders</th><th>Transmission Type</th><th>Driven_Wheels</th><th>Number of Doors</th><th>Market Category</th><th>Vehicle Size</th><th>Vehicle Style</th><th>highway MPG</th><th>city mpg</th><th>Popularity</th><th>MSRP</th></tr><tr><td>str</td><td>str</td><td>i64</td><td>str</td><td>i64</td><td>i64</td><td>str</td><td>str</td><td>i64</td><td>str</td><td>str</td><td>str</td><td>i64</td><td>i64</td><td>i64</td><td>i64</td></tr></thead><tbody><tr><td>&quot;BMW&quot;</td><td>&quot;1 Series M&quot;</td><td>2011</td><td>&quot;premium unleaded (required)&quot;</td><td>335</td><td>6</td><td>&quot;MANUAL&quot;</td><td>&quot;rear wheel drive&quot;</td><td>2</td><td>&quot;Factory Tuner,Luxury,High-Perf…</td><td>&quot;Compact&quot;</td><td>&quot;Coupe&quot;</td><td>26</td><td>19</td><td>3916</td><td>46135</td></tr><tr><td>&quot;BMW&quot;</td><td>&quot;1 Series&quot;</td><td>2011</td><td>&quot;premium unleaded (required)&quot;</td><td>300</td><td>6</td><td>&quot;MANUAL&quot;</td><td>&quot;rear wheel drive&quot;</td><td>2</td><td>&quot;Luxury,Performance&quot;</td><td>&quot;Compact&quot;</td><td>&quot;Convertible&quot;</td><td>28</td><td>19</td><td>3916</td><td>40650</td></tr><tr><td>&quot;BMW&quot;</td><td>&quot;1 Series&quot;</td><td>2011</td><td>&quot;premium unleaded (required)&quot;</td><td>300</td><td>6</td><td>&quot;MANUAL&quot;</td><td>&quot;rear wheel drive&quot;</td><td>2</td><td>&quot;Luxury,High-Performance&quot;</td><td>&quot;Compact&quot;</td><td>&quot;Coupe&quot;</td><td>28</td><td>20</td><td>3916</td><td>36350</td></tr><tr><td>&quot;BMW&quot;</td><td>&quot;1 Series&quot;</td><td>2011</td><td>&quot;premium unleaded (required)&quot;</td><td>230</td><td>6</td><td>&quot;MANUAL&quot;</td><td>&quot;rear wheel drive&quot;</td><td>2</td><td>&quot;Luxury,Performance&quot;</td><td>&quot;Compact&quot;</td><td>&quot;Coupe&quot;</td><td>28</td><td>18</td><td>3916</td><td>29450</td></tr><tr><td>&quot;BMW&quot;</td><td>&quot;1 Series&quot;</td><td>2011</td><td>&quot;premium unleaded (required)&quot;</td><td>230</td><td>6</td><td>&quot;MANUAL&quot;</td><td>&quot;rear wheel drive&quot;</td><td>2</td><td>&quot;Luxury&quot;</td><td>&quot;Compact&quot;</td><td>&quot;Convertible&quot;</td><td>28</td><td>18</td><td>3916</td><td>34500</td></tr></tbody></table></div>"
      ],
      "text/plain": [
       "shape: (5, 16)\n",
       "┌──────┬────────────┬──────┬──────────────────┬───┬─────────────┬──────────┬────────────┬───────┐\n",
       "│ Make ┆ Model      ┆ Year ┆ Engine Fuel Type ┆ … ┆ highway MPG ┆ city mpg ┆ Popularity ┆ MSRP  │\n",
       "│ ---  ┆ ---        ┆ ---  ┆ ---              ┆   ┆ ---         ┆ ---      ┆ ---        ┆ ---   │\n",
       "│ str  ┆ str        ┆ i64  ┆ str              ┆   ┆ i64         ┆ i64      ┆ i64        ┆ i64   │\n",
       "╞══════╪════════════╪══════╪══════════════════╪═══╪═════════════╪══════════╪════════════╪═══════╡\n",
       "│ BMW  ┆ 1 Series M ┆ 2011 ┆ premium unleaded ┆ … ┆ 26          ┆ 19       ┆ 3916       ┆ 46135 │\n",
       "│      ┆            ┆      ┆ (required)       ┆   ┆             ┆          ┆            ┆       │\n",
       "│ BMW  ┆ 1 Series   ┆ 2011 ┆ premium unleaded ┆ … ┆ 28          ┆ 19       ┆ 3916       ┆ 40650 │\n",
       "│      ┆            ┆      ┆ (required)       ┆   ┆             ┆          ┆            ┆       │\n",
       "│ BMW  ┆ 1 Series   ┆ 2011 ┆ premium unleaded ┆ … ┆ 28          ┆ 20       ┆ 3916       ┆ 36350 │\n",
       "│      ┆            ┆      ┆ (required)       ┆   ┆             ┆          ┆            ┆       │\n",
       "│ BMW  ┆ 1 Series   ┆ 2011 ┆ premium unleaded ┆ … ┆ 28          ┆ 18       ┆ 3916       ┆ 29450 │\n",
       "│      ┆            ┆      ┆ (required)       ┆   ┆             ┆          ┆            ┆       │\n",
       "│ BMW  ┆ 1 Series   ┆ 2011 ┆ premium unleaded ┆ … ┆ 28          ┆ 18       ┆ 3916       ┆ 34500 │\n",
       "│      ┆            ┆      ┆ (required)       ┆   ┆             ┆          ┆            ┆       │\n",
       "└──────┴────────────┴──────┴──────────────────┴───┴─────────────┴──────────┴────────────┴───────┘"
      ]
     },
     "execution_count": 15,
     "metadata": {},
     "output_type": "execute_result"
    }
   ],
   "source": [
    "df.head()"
   ]
  },
  {
   "cell_type": "markdown",
   "metadata": {},
   "source": [
    "Normalizing the names of the columns"
   ]
  },
  {
   "cell_type": "code",
   "execution_count": 16,
   "metadata": {},
   "outputs": [],
   "source": [
    "df = df.rename({col: col.lower().replace(\" \", \"_\") for col in df.columns})"
   ]
  },
  {
   "cell_type": "code",
   "execution_count": 17,
   "metadata": {},
   "outputs": [
    {
     "data": {
      "text/plain": [
       "[('make', String),\n",
       " ('model', String),\n",
       " ('year', Int64),\n",
       " ('engine_fuel_type', String),\n",
       " ('engine_hp', Int64),\n",
       " ('engine_cylinders', Int64),\n",
       " ('transmission_type', String),\n",
       " ('driven_wheels', String),\n",
       " ('number_of_doors', Int64),\n",
       " ('market_category', String),\n",
       " ('vehicle_size', String),\n",
       " ('vehicle_style', String),\n",
       " ('highway_mpg', Int64),\n",
       " ('city_mpg', Int64),\n",
       " ('popularity', Int64),\n",
       " ('msrp', Int64)]"
      ]
     },
     "execution_count": 17,
     "metadata": {},
     "output_type": "execute_result"
    }
   ],
   "source": [
    "list(zip(df.columns, df.dtypes))"
   ]
  },
  {
   "cell_type": "markdown",
   "metadata": {},
   "source": [
    "### Exploratory Data Analysis"
   ]
  },
  {
   "cell_type": "code",
   "execution_count": 18,
   "metadata": {},
   "outputs": [],
   "source": [
    "columns = df.columns"
   ]
  },
  {
   "cell_type": "code",
   "execution_count": 19,
   "metadata": {},
   "outputs": [
    {
     "data": {
      "text/html": [
       "<div><style>\n",
       ".dataframe > thead > tr,\n",
       ".dataframe > tbody > tr {\n",
       "  text-align: right;\n",
       "  white-space: pre-wrap;\n",
       "}\n",
       "</style>\n",
       "<small>shape: (5, 16)</small><table border=\"1\" class=\"dataframe\"><thead><tr><th>make</th><th>model</th><th>year</th><th>engine_fuel_type</th><th>engine_hp</th><th>engine_cylinders</th><th>transmission_type</th><th>driven_wheels</th><th>number_of_doors</th><th>market_category</th><th>vehicle_size</th><th>vehicle_style</th><th>highway_mpg</th><th>city_mpg</th><th>popularity</th><th>msrp</th></tr><tr><td>str</td><td>str</td><td>i64</td><td>str</td><td>i64</td><td>i64</td><td>str</td><td>str</td><td>i64</td><td>str</td><td>str</td><td>str</td><td>i64</td><td>i64</td><td>i64</td><td>i64</td></tr></thead><tbody><tr><td>&quot;BMW&quot;</td><td>&quot;1 Series M&quot;</td><td>2011</td><td>&quot;premium unleaded (required)&quot;</td><td>335</td><td>6</td><td>&quot;MANUAL&quot;</td><td>&quot;rear wheel drive&quot;</td><td>2</td><td>&quot;Factory Tuner,Luxury,High-Perf…</td><td>&quot;Compact&quot;</td><td>&quot;Coupe&quot;</td><td>26</td><td>19</td><td>3916</td><td>46135</td></tr><tr><td>&quot;BMW&quot;</td><td>&quot;1 Series&quot;</td><td>2011</td><td>&quot;premium unleaded (required)&quot;</td><td>300</td><td>6</td><td>&quot;MANUAL&quot;</td><td>&quot;rear wheel drive&quot;</td><td>2</td><td>&quot;Luxury,Performance&quot;</td><td>&quot;Compact&quot;</td><td>&quot;Convertible&quot;</td><td>28</td><td>19</td><td>3916</td><td>40650</td></tr><tr><td>&quot;BMW&quot;</td><td>&quot;1 Series&quot;</td><td>2011</td><td>&quot;premium unleaded (required)&quot;</td><td>300</td><td>6</td><td>&quot;MANUAL&quot;</td><td>&quot;rear wheel drive&quot;</td><td>2</td><td>&quot;Luxury,High-Performance&quot;</td><td>&quot;Compact&quot;</td><td>&quot;Coupe&quot;</td><td>28</td><td>20</td><td>3916</td><td>36350</td></tr><tr><td>&quot;BMW&quot;</td><td>&quot;1 Series&quot;</td><td>2011</td><td>&quot;premium unleaded (required)&quot;</td><td>230</td><td>6</td><td>&quot;MANUAL&quot;</td><td>&quot;rear wheel drive&quot;</td><td>2</td><td>&quot;Luxury,Performance&quot;</td><td>&quot;Compact&quot;</td><td>&quot;Coupe&quot;</td><td>28</td><td>18</td><td>3916</td><td>29450</td></tr><tr><td>&quot;BMW&quot;</td><td>&quot;1 Series&quot;</td><td>2011</td><td>&quot;premium unleaded (required)&quot;</td><td>230</td><td>6</td><td>&quot;MANUAL&quot;</td><td>&quot;rear wheel drive&quot;</td><td>2</td><td>&quot;Luxury&quot;</td><td>&quot;Compact&quot;</td><td>&quot;Convertible&quot;</td><td>28</td><td>18</td><td>3916</td><td>34500</td></tr></tbody></table></div>"
      ],
      "text/plain": [
       "shape: (5, 16)\n",
       "┌──────┬────────────┬──────┬──────────────────┬───┬─────────────┬──────────┬────────────┬───────┐\n",
       "│ make ┆ model      ┆ year ┆ engine_fuel_type ┆ … ┆ highway_mpg ┆ city_mpg ┆ popularity ┆ msrp  │\n",
       "│ ---  ┆ ---        ┆ ---  ┆ ---              ┆   ┆ ---         ┆ ---      ┆ ---        ┆ ---   │\n",
       "│ str  ┆ str        ┆ i64  ┆ str              ┆   ┆ i64         ┆ i64      ┆ i64        ┆ i64   │\n",
       "╞══════╪════════════╪══════╪══════════════════╪═══╪═════════════╪══════════╪════════════╪═══════╡\n",
       "│ BMW  ┆ 1 Series M ┆ 2011 ┆ premium unleaded ┆ … ┆ 26          ┆ 19       ┆ 3916       ┆ 46135 │\n",
       "│      ┆            ┆      ┆ (required)       ┆   ┆             ┆          ┆            ┆       │\n",
       "│ BMW  ┆ 1 Series   ┆ 2011 ┆ premium unleaded ┆ … ┆ 28          ┆ 19       ┆ 3916       ┆ 40650 │\n",
       "│      ┆            ┆      ┆ (required)       ┆   ┆             ┆          ┆            ┆       │\n",
       "│ BMW  ┆ 1 Series   ┆ 2011 ┆ premium unleaded ┆ … ┆ 28          ┆ 20       ┆ 3916       ┆ 36350 │\n",
       "│      ┆            ┆      ┆ (required)       ┆   ┆             ┆          ┆            ┆       │\n",
       "│ BMW  ┆ 1 Series   ┆ 2011 ┆ premium unleaded ┆ … ┆ 28          ┆ 18       ┆ 3916       ┆ 29450 │\n",
       "│      ┆            ┆      ┆ (required)       ┆   ┆             ┆          ┆            ┆       │\n",
       "│ BMW  ┆ 1 Series   ┆ 2011 ┆ premium unleaded ┆ … ┆ 28          ┆ 18       ┆ 3916       ┆ 34500 │\n",
       "│      ┆            ┆      ┆ (required)       ┆   ┆             ┆          ┆            ┆       │\n",
       "└──────┴────────────┴──────┴──────────────────┴───┴─────────────┴──────────┴────────────┴───────┘"
      ]
     },
     "execution_count": 19,
     "metadata": {},
     "output_type": "execute_result"
    }
   ],
   "source": [
    "df.head()"
   ]
  },
  {
   "cell_type": "code",
   "execution_count": 20,
   "metadata": {},
   "outputs": [
    {
     "name": "stdout",
     "output_type": "stream",
     "text": [
      "make\n",
      "['Tesla', 'Lamborghini', 'BMW', 'Buick', 'Lotus']\n",
      "48\n",
      "\n",
      "model\n",
      "['LS', '599', 'Elantra', '8 Series', 'Element']\n",
      "915\n",
      "\n",
      "year\n",
      "[1990, 1991, 1992, 1993, 1994]\n",
      "28\n",
      "\n",
      "engine_fuel_type\n",
      "['flex-fuel (unleaded/natural gas)', 'premium unleaded (recommended)', 'flex-fuel (unleaded/E85)', 'electric', 'flex-fuel (premium unleaded required/E85)']\n",
      "11\n",
      "\n",
      "engine_hp\n",
      "[None, 55, 62, 63, 66]\n",
      "357\n",
      "\n",
      "engine_cylinders\n",
      "[None, 0, 3, 4, 5]\n",
      "10\n",
      "\n",
      "transmission_type\n",
      "['UNKNOWN', 'AUTOMATED_MANUAL', 'AUTOMATIC', 'DIRECT_DRIVE', 'MANUAL']\n",
      "5\n",
      "\n",
      "driven_wheels\n",
      "['all wheel drive', 'front wheel drive', 'rear wheel drive', 'four wheel drive']\n",
      "4\n",
      "\n",
      "number_of_doors\n",
      "[None, 2, 3, 4]\n",
      "4\n",
      "\n",
      "market_category\n",
      "['Crossover,Exotic,Luxury,High-Performance', 'Performance', 'Flex Fuel', 'Hatchback,Factory Tuner,Luxury,Performance', 'Diesel']\n",
      "72\n",
      "\n",
      "vehicle_size\n",
      "['Large', 'Compact', 'Midsize']\n",
      "3\n",
      "\n",
      "vehicle_style\n",
      "['2dr SUV', 'Convertible SUV', 'Regular Cab Pickup', 'Passenger Minivan', '4dr Hatchback']\n",
      "16\n",
      "\n",
      "highway_mpg\n",
      "[12, 13, 14, 15, 16]\n",
      "59\n",
      "\n",
      "city_mpg\n",
      "[7, 8, 9, 10, 11]\n",
      "69\n",
      "\n",
      "popularity\n",
      "[2, 21, 26, 61, 67]\n",
      "48\n",
      "\n",
      "msrp\n",
      "[2000, 2002, 2003, 2008, 2012]\n",
      "6049\n",
      "\n"
     ]
    }
   ],
   "source": [
    "for column in df.columns:\n",
    "    print(column)\n",
    "    print(df[column].unique()[:5].to_list())\n",
    "    print(df[column].n_unique())\n",
    "    print(\"\")"
   ]
  },
  {
   "cell_type": "markdown",
   "metadata": {},
   "source": [
    "### Exploratory Data Analysis"
   ]
  },
  {
   "cell_type": "code",
   "execution_count": 21,
   "metadata": {},
   "outputs": [],
   "source": [
    "import seaborn as sns\n",
    "from matplotlib import pyplot as plt"
   ]
  },
  {
   "cell_type": "code",
   "execution_count": 23,
   "metadata": {},
   "outputs": [
    {
     "data": {
      "image/png": "[encoded data removed]",
      "text/plain": [
       "<Figure size 600x400 with 1 Axes>"
      ]
     },
     "metadata": {},
     "output_type": "display_data"
    }
   ],
   "source": [
    "plt.figure(figsize=(6, 4))\n",
    "\n",
    "sns.histplot(df['msrp'], bins=40, color='black', alpha=1)\n",
    "plt.ylabel('Frequency')\n",
    "plt.xlabel('Price')\n",
    "plt.title('Distribution of prices')\n",
    "\n",
    "plt.show()"
   ]
  },
  {
   "cell_type": "code",
   "execution_count": 24,
   "metadata": {},
   "outputs": [
    {
     "data": {
      "image/png": "[encoded data removed]",
      "text/plain": [
       "<Figure size 600x400 with 1 Axes>"
      ]
     },
     "metadata": {},
     "output_type": "display_data"
    }
   ],
   "source": [
    "log_price = np.log1p(df['msrp'])\n",
    "\n",
    "plt.figure(figsize=(6, 4))\n",
    "\n",
    "sns.histplot(log_price, bins=40, color='black', alpha=1)\n",
    "plt.ylabel('Frequency')\n",
    "plt.xlabel('Log(Price + 1)')\n",
    "plt.title('Distribution of prices after log tranformation')\n",
    "\n",
    "plt.show()"
   ]
  },
  {
   "cell_type": "markdown",
   "metadata": {},
   "source": [
    "Checking for missing values"
   ]
  },
  {
   "cell_type": "code",
   "execution_count": 29,
   "metadata": {},
   "outputs": [
    {
     "data": {
      "text/html": [
       "<div><style>\n",
       ".dataframe > thead > tr,\n",
       ".dataframe > tbody > tr {\n",
       "  text-align: right;\n",
       "  white-space: pre-wrap;\n",
       "}\n",
       "</style>\n",
       "<small>shape: (1, 16)</small><table border=\"1\" class=\"dataframe\"><thead><tr><th>make</th><th>model</th><th>year</th><th>engine_fuel_type</th><th>engine_hp</th><th>engine_cylinders</th><th>transmission_type</th><th>driven_wheels</th><th>number_of_doors</th><th>market_category</th><th>vehicle_size</th><th>vehicle_style</th><th>highway_mpg</th><th>city_mpg</th><th>popularity</th><th>msrp</th></tr><tr><td>u32</td><td>u32</td><td>u32</td><td>u32</td><td>u32</td><td>u32</td><td>u32</td><td>u32</td><td>u32</td><td>u32</td><td>u32</td><td>u32</td><td>u32</td><td>u32</td><td>u32</td><td>u32</td></tr></thead><tbody><tr><td>0</td><td>0</td><td>0</td><td>3</td><td>69</td><td>30</td><td>0</td><td>0</td><td>6</td><td>0</td><td>0</td><td>0</td><td>0</td><td>0</td><td>0</td><td>0</td></tr></tbody></table></div>"
      ],
      "text/plain": [
       "shape: (1, 16)\n",
       "┌──────┬───────┬──────┬──────────────────┬───┬─────────────┬──────────┬────────────┬──────┐\n",
       "│ make ┆ model ┆ year ┆ engine_fuel_type ┆ … ┆ highway_mpg ┆ city_mpg ┆ popularity ┆ msrp │\n",
       "│ ---  ┆ ---   ┆ ---  ┆ ---              ┆   ┆ ---         ┆ ---      ┆ ---        ┆ ---  │\n",
       "│ u32  ┆ u32   ┆ u32  ┆ u32              ┆   ┆ u32         ┆ u32      ┆ u32        ┆ u32  │\n",
       "╞══════╪═══════╪══════╪══════════════════╪═══╪═════════════╪══════════╪════════════╪══════╡\n",
       "│ 0    ┆ 0     ┆ 0    ┆ 3                ┆ … ┆ 0           ┆ 0        ┆ 0          ┆ 0    │\n",
       "└──────┴───────┴──────┴──────────────────┴───┴─────────────┴──────────┴────────────┴──────┘"
      ]
     },
     "execution_count": 29,
     "metadata": {},
     "output_type": "execute_result"
    }
   ],
   "source": [
    "df.null_count()"
   ]
  },
  {
   "cell_type": "code",
   "execution_count": null,
   "metadata": {},
   "outputs": [],
   "source": []
  },
  {
   "cell_type": "code",
   "execution_count": null,
   "metadata": {},
   "outputs": [],
   "source": []
  }
 ],
 "metadata": {
  "kernelspec": {
   "display_name": "Python 3",
   "language": "python",
   "name": "python3"
  },
  "language_info": {
   "codemirror_mode": {
    "name": "ipython",
    "version": 3
   },
   "file_extension": ".py",
   "mimetype": "text/x-python",
   "name": "python",
   "nbconvert_exporter": "python",
   "pygments_lexer": "ipython3",
   "version": "3.12.1"
  }
 },
 "nbformat": 4,
 "nbformat_minor": 2
}
